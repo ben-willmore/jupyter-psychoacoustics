{
 "cells": [
  {
   "cell_type": "markdown",
   "metadata": {
    "colab_type": "text",
    "id": "B3AS2GdH795V"
   },
   "source": [
    "# Sound localization\n",
    "\n",
    "This practical class will:\n",
    "* introduce you to binaural cues for sound localization -- Interaural Level Difference (ILD) and Interaural Time Difference (ITD)\n",
    "* enable you to measure your own sensitivity to ILD and ITD, and use this to determine when these cues are useful\n",
    "* evaluate Rayleigh's duplex theory of sound localization\n",
    "\n",
    "Binaural cues are differences in the sounds reaching the two ears which occur due to the position of the sound source. By analysing these cues, your brain is able to estimate the spatial location from which the sound came. The most common binaural cues are ILD and ITD. ILD is the difference in sound level that results from the \"acoustic shadow\" caused by your head blocking the direct path of sounds to your ears. ITD is the time difference that results from sounds having to travel further to one ear than the other. Our brains uses a combination of these cues to determine the location of sound sources, but which cue is more useful depends on the characteristics of each sound.\n",
    "\n",
    "The class is structured as a series of \"cells\". Each cell contains computer code that you can run to perform tasks like collecting data and analysing data. To complete the class, you need to click in each cell in turn and perform the associated task. Start now by clicking in the cell below, which contains the initial setup code to start the experiment. Click in the cell, then click its Play button on the left-hand side."
   ]
  },
  {
   "cell_type": "code",
   "execution_count": null,
   "metadata": {
    "colab": {},
    "colab_type": "code",
    "id": "ygaIQiUjw_Wr"
   },
   "outputs": [],
   "source": [
    "# Initial setup\n",
    "# To run the code in this cell, click on this text\n",
    "# <--- Then click on the Play button on the left\n",
    "# The code will take a few seconds to run.\n",
    "# When you see \"Setup complete\", you can move to the next cell\n",
    "\n",
    "!pip install git+https://github.com/beniamino38/jupyter-psychoacoustics.git >/dev/null\n",
    "from psychoacoustics.jupyterpsych import JupyterPsych\n",
    "from psychoacoustics.localization import *\n",
    "print_setup_message()"
   ]
  },
  {
   "cell_type": "markdown",
   "metadata": {
    "colab_type": "text",
    "id": "OR1EYxv39xk2"
   },
   "source": [
    "## Headphone setup\n",
    "\n",
    "For these experiments to work correctly, you need to use headphones. Headphones enable us to present independent stimuli directly to the two ears (unlike sounds produced by loudspeakers, which reach both ears with natural ILDs and ITDs that depend on the location of the loudspeaker). Since this experiment is about judging the location of sounds, it is crucial that both channels work, and that your headphones are the right way round."
   ]
  },
  {
   "cell_type": "code",
   "execution_count": null,
   "metadata": {
    "colab": {},
    "colab_type": "code",
    "id": "_w-eyqjh-5sy"
   },
   "outputs": [],
   "source": [
    "# Run this cell by clicking here,\n",
    "# <--- then pressing Play\n",
    "JupyterPsych().headphone_check()"
   ]
  },
  {
   "cell_type": "markdown",
   "metadata": {
    "colab_type": "text",
    "id": "Hu2jbH49FGXZ"
   },
   "source": [
    "Adjust your computer's volume control so that the sounds are comfortably loud. If the sounds are coming from the wrong sides, swap your headphones round. If there is no sound, or both sounds come from one side, or one side fails to play, try adjusting the sound settings on your computer, make sure the headphones are fully plugged in, or try a different set of headphones."
   ]
  },
  {
   "cell_type": "markdown",
   "metadata": {
    "colab_type": "text",
    "id": "b34kB-Bu_CBh"
   },
   "source": [
    "# Interaural Level Difference\n",
    "In this part of the experiment, you will collect data on your own ability to localize sounds based on their ILD. The programme will present sounds of two different frequencies (500Hz and 2000Hz), and a range of ILDs between -10dB (louder in the left ear) and +10dB (louder in the right ear). The sounds will be presented in a random order. Every time you hear a sound, you will have to judge whether the sound came from the left or the right.\n",
    "\n",
    "In some cases, the answer will be obvious. For others, you may find that they sound very close to the centre, and it is hard to choose between left and right. In these cases, just give your best guess.\n",
    "\n",
    "If you run the cell below, you will find a button that enables you to play the sound. Once the sound has played, you will be able to indicate your judgement by clicking \"Left\" or \"Right\". When you have indicated your decision for the last sound presented, click 'Play Sound' for the next trial. The software will stop automatically once you have completed enough trials to get reasonably reliable answers (10 repetitions of each sound).\n",
    "\n",
    "When you have completed your trials, move on to the next cell to analyze your data."
   ]
  },
  {
   "cell_type": "code",
   "execution_count": null,
   "metadata": {
    "colab": {},
    "colab_type": "code",
    "id": "d--kBeoC7xJx"
   },
   "outputs": [],
   "source": [
    "# Run this cell by clicking here,\n",
    "# <--- then pressing Play\n",
    "ild_expt = LocalizationExpt(cue_type='ILD', n_reps=10)"
   ]
  },
  {
   "cell_type": "markdown",
   "metadata": {
    "colab_type": "text",
    "id": "51_Jm80AY_d2"
   },
   "source": [
    "### ILD Results\n",
    "We will now plot a graph of the data you collected above, and use it to estimate your sensitivity to ILD."
   ]
  },
  {
   "cell_type": "code",
   "execution_count": null,
   "metadata": {
    "colab": {},
    "colab_type": "code",
    "id": "NmxX5ag1GuF6"
   },
   "outputs": [],
   "source": [
    "# Run this cell by clicking here,\n",
    "# <--- then pressing Play\n",
    "\n",
    "ild_expt.analyse_results()"
   ]
  },
  {
   "attachments": {},
   "cell_type": "markdown",
   "metadata": {
    "colab_type": "text",
    "id": "wfSkt4JihLs6"
   },
   "source": [
    "### Analyzing ILD results\n",
    "\n",
    "The symbols show how often you clicked \"right\" for the ILD value given on the x-axis. The continuous line is a \"cumulative Gaussian\" sigmoidal curve fitted to your data by the software. Fitting curves like this is a good way of estimating the underlying psychometric function (i.e. the function that describes your sensitivity to changes in a particular sensory parameter) from the data sample we obtained.\n",
    "\n",
    "**Right-click on the graph (and the other psychometric functions you generate later), download it, and copy it into your assignment document, and answer the questions there.**\n",
    "\n",
    "**Q1: On the psychometric functions you obtained, which ILD values are associated with 50% right responses? Which ILD value would you expect to be associated with 50% right?**\n",
    "\n",
    "Psychometric curves are useful for determining how sensitive you are to ILDs. The steeper the slope of the sigmoid, the smaller the change in ILD required to produce a noticeable difference in your judgments. However, people rarely report sensory performance as slope values (%right/ dB). Instead, they tend to report \"thresholds\". The ILD threshold can be defined as the change in ILD that is just large enough to raise the %right judgments from 50% (completely random guessing) to a reasonable level of performance (often 75%).\n",
    "\n",
    "**Q2: Using a performance threshold of 75%, what is your ILD threshold for each of the two frequencies tested?**\n",
    "\n",
    "The thresholds obtained for the two frequencies may be very similar or somewhat different. To decide whether there is a real physiological difference between them, we first have to show whether any observed difference in thresholds is statistically significant or not.\n",
    "\n",
    "To do that would require a suitable statistical test, for example some type of \"bootstrap\". The statistical techniques needed to analyze these data properly are beyond the scope of this practical. However, you may be able to gain some intuition about this if you think about the problem in the following manner: Your \"true\" psychometric function will specify for each particular ILD, the probability that you will report the sound as coming from the right. The experiment cannot measure this probability directly, only estimate it from the frequency of actual right responses in a quite limited number of trials (here about 10 for each ILD tested). Let's say the true underlying probability for a particular ILD was 75%. Testing that ILD would then be a bit like flipping a biased coin that has a probability of landing \"heads\" on 75% of trials. Would it be impossible for such a biased coin to produce, say, only 50% heads in a short run of only 10 trials? If you think this through, you will probably appreciate that the % right scores observed in this very short experiment are only very rough estimates of your true psychometric function.\n",
    "\n",
    "You may also have wondered what the thick broken curves on the plots represent. These are 95% confidence intervals for the psychometric functions fitted to your data. The algorithm that fitted the sigmoids is clever enough to appreciate that the sigmoid it produced is only an estimate, and that the true underlying function could be fairly different from that \"best estimate\". So when you compare the data obtained at the two different frequencies, you could ask yourself, would it be unreasonable to suspect that the data points in the top graph come from the confidence interval plotted in the lower graph, or vice versa?\n",
    "\n",
    "**Q3: Would you consider your sensitivity to ILDs essentially similar, or substantively different, for the two frequencies you tested?**"
   ]
  },
  {
   "attachments": {},
   "cell_type": "markdown",
   "metadata": {
    "colab_type": "text",
    "id": "b7lqP4Mbf4r7"
   },
   "source": [
    "### Evaluate the usefulness of ILDs as localization cues\n",
    "\n",
    "You should by now have obtained estimates of your own ILD sensitivity at 500 and 2,000 Hz. Your ILD thresholds in dB may or may not have been very similar for the two frequencies. However, ILDs are a cue to sound source direction. Source directions are not specified in dB! To localize sounds in space, your brain needs to translate ILD values to angles in the horizontal plane (also known as azimuth). To see how useful a particular ILD would be, say, for detecting a change in sound source direction away from \"straight ahead\" (zero degrees azimuth), we need to know what ILD values are normally associated with different sound source directions for different sound frequencies. The graph below shows ILDs measured as a function of sound source direction measured in an adult male with small microphones inserted in the ear canal. ILD values are plotted for a number of frequencies and sound source directions (azimuthal angles).\n",
    "![Angle vs ILD](https://auditoryneuroscience.com/sites/default/files/ILDsForVariousFreqs_0.jpg)\n",
    "\n",
    "This graph is rather busy, but you will hopefully appreciate that the slope of these graphs near zero is different for different frequencies.\n",
    "\n",
    "At frequencies close to 500 Hz, the slope is equivalent to approximately 7.35 degrees / dB, while at frequencies near 2000 Hz the slope is closer to 4 degrees / dB. Using these slope values as well as the ILD thresholds you have estimated for those frequencies, calculate your estimated \"minimum audible angles (MAAs)\", i.e. the changes in source direction that would correspond to the ILD thresholds that you have estimated earlier. Make a note of the MAAs.\n",
    "\n",
    "**Q4: What are your MAAs for each of the two frequencies tested?**\n",
    "\n",
    "**Q5: Does a smaller MAA mean better or worse spatial hearing?**\n",
    "\n",
    "**Q6: Is your MAA better at lower or higher frequencies?**"
   ]
  },
  {
   "cell_type": "markdown",
   "metadata": {
    "colab_type": "text",
    "id": "0lHIUk3EZLci"
   },
   "source": [
    "# Interaural Time Difference\n",
    "Now, we'll do a similar experiment and analysis, but for ITD instead of ILD.\n",
    "\n",
    "Run through the trials using the same procedure as when you collected the ILD data.\n",
    "\n",
    "**Note: most people find it very difficult to hear ITDs for high frequencies as lateralized to the left or right. So you will probably hear most or all of the high pitched sounds very close to the middle, and find it difficult to judge whether they are on the left or right. Don't worry if you find this difficult, that is quite normal. Just listen carefully, give your best guess.**\n",
    "\n",
    "When you have completed your block of trials, move on to the next cell to analyze your ITD data."
   ]
  },
  {
   "cell_type": "code",
   "execution_count": null,
   "metadata": {
    "colab": {},
    "colab_type": "code",
    "id": "TlScEH5kU672"
   },
   "outputs": [],
   "source": [
    "# Run this cell by clicking here,\n",
    "# <--- then pressing Play\n",
    "\n",
    "itd_expt = LocalizationExpt(cue_type='ITD', n_reps=10)"
   ]
  },
  {
   "cell_type": "markdown",
   "metadata": {
    "colab_type": "text",
    "id": "8qXKOO8SZSal"
   },
   "source": [
    "### ITD Results\n",
    "Now, we'll plot and analyse your ITD results."
   ]
  },
  {
   "cell_type": "code",
   "execution_count": null,
   "metadata": {
    "colab": {},
    "colab_type": "code",
    "id": "gopys3WiU9z_"
   },
   "outputs": [],
   "source": [
    "# Run this cell by clicking here,\n",
    "# <--- then pressing Play\n",
    "\n",
    "itd_expt.analyse_results()"
   ]
  },
  {
   "cell_type": "markdown",
   "metadata": {
    "colab_type": "text",
    "id": "vsIhOj38hULR"
   },
   "source": [
    "**Right-click the graph, download it and copy it into your assignment document.**\n",
    "\n",
    "Using the same considerations you used when you interpreted the ILD data, answer the following questions:\n",
    "\n",
    "**Q7: What is your ITD threshold for each of the frequencies tested?**\n",
    "\n",
    "**Q8: Would you consider your ITD thresholds for the two frequencies similar, or substantially different?**"
   ]
  },
  {
   "cell_type": "markdown",
   "metadata": {
    "colab_type": "text",
    "id": "XvVc1vWlhV7l"
   },
   "source": [
    "### Evaluating the usefulness of ITDs\n",
    "\n",
    "Unlike ILDs, ITDs are generally thought not to vary much with frequency. The graph below shows ITDs as a function of sound source direction measured in an adult male with small microphones inserted in the ear canal. \n",
    "\n",
    "**Q9: Use the graph to work out what MAAs the ITD thresholds you have obtained would correspond to. How do these MAAs compare to those you obtained for ILDs?**\n",
    "\n",
    "![alt text](https://auditoryneuroscience.com/sites/default/files/ITDsFig.jpg)"
   ]
  },
  {
   "cell_type": "markdown",
   "metadata": {
    "colab_type": "text",
    "id": "vDhJrHi0hkNf"
   },
   "source": [
    "# Was Rayleigh correct?\n",
    "\n",
    "Lord Rayleigh is credited with developing the \"duplex theory\" for sound localization, which states that the brain relies heavily on ITDs for low frequency sounds, and on ILDs for high frequency sounds.\n",
    "\n",
    "**Q10: Do the results you have obtained in this practical agree with the duplex theory? If not, how do they differ?**"
   ]
  },
  {
   "cell_type": "markdown",
   "metadata": {},
   "source": [
    "## Acknowledgements\n",
    "\n",
    "This class is based on a MATLAB class which was developed by Jan Schnupp and Matthieu Lesburguères for Oxford University and is available [here](https://auditoryneuroscience.com/spatial-hearing/ITD-ILD-practical)."
   ]
  }
 ],
 "metadata": {
  "kernelspec": {
   "display_name": "Python 3",
   "language": "python",
   "name": "python3"
  },
  "language_info": {
   "codemirror_mode": {
    "name": "ipython",
    "version": 3
   },
   "file_extension": ".py",
   "mimetype": "text/x-python",
   "name": "python",
   "nbconvert_exporter": "python",
   "pygments_lexer": "ipython3",
   "version": "3.7.7"
  }
 },
 "nbformat": 4,
 "nbformat_minor": 1
}
